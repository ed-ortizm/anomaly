{
 "cells": [
  {
   "cell_type": "code",
   "execution_count": 6,
   "metadata": {},
   "outputs": [],
   "source": [
    "import os\n",
    "# Set environment variables to disable multithreading as users will probably\n",
    "# want to set the number of cores to the max of their computer.\n",
    "os.environ[\"OMP_NUM_THREADS\"] = \"1\"\n",
    "os.environ[\"OPENBLAS_NUM_THREADS\"] = \"1\"\n",
    "os.environ[\"MKL_NUM_THREADS\"] = \"1\"\n",
    "os.environ[\"VECLIB_MAXIMUM_THREADS\"] = \"1\"\n",
    "os.environ[\"NUMEXPR_NUM_THREADS\"] = \"1\"\n",
    "###############################################################################\n",
    "# Set TensorFlow print of log information\n",
    "# 0 = all messages are logged (default behavior)\n",
    "# 1 = INFO messages are not printed\n",
    "# 2 = INFO and WARNING messages are not printed\n",
    "# 3 = INFO, WARNING, and ERROR messages are not printed\n",
    "os.environ[\"TF_CPP_MIN_LOG_LEVEL\"] = \"2\""
   ]
  },
  {
   "cell_type": "code",
   "execution_count": 7,
   "metadata": {},
   "outputs": [],
   "source": [
    "import glob\n",
    "\n",
    "import matplotlib.pyplot as plt\n",
    "import numpy as np\n",
    "import pandas as pd\n",
    "\n",
    "from sdss.metadata import MetaData\n",
    "from autoencoders.ae import AutoEncoder\n",
    "\n",
    "\n",
    "meta = MetaData()\n",
    "%matplotlib inline"
   ]
  },
  {
   "cell_type": "code",
   "execution_count": 3,
   "metadata": {},
   "outputs": [],
   "source": [
    "def specobjid_to_idx(specobjid: int, ids: np.array):\n",
    "    mask = np.where(ids[:, 1]==specobjid, True, False)\n",
    "    idx = int(ids[mask, 0][0])\n",
    "    return idx"
   ]
  },
  {
   "cell_type": "code",
   "execution_count": 11,
   "metadata": {},
   "outputs": [],
   "source": [
    "bin_id = \"bin_04\"\n",
    "model_id = \"0013\"\n",
    "architecture = \"256_128_64/latent_12\"\n",
    "\n",
    "meta_data_directory = \"/home/edgar/spectra/0_01_z_0_5_4_0_snr_inf\"\n",
    "scores_directory = f\"{meta_data_directory}/{bin_id}/explanation/{architecture}\"\n",
    "model_directory = f\"{meta_data_directory}/{bin_id}/models/{architecture}\""
   ]
  },
  {
   "cell_type": "code",
   "execution_count": 12,
   "metadata": {},
   "outputs": [],
   "source": [
    "wave = np.load(f\"{meta_data_directory}/wave.npy\")\n",
    "spectra = np.load(f\"{meta_data_directory}/spectra.npy\", mmap_mode=\"r\")\n",
    "ids = np.load(f\"{meta_data_directory}/ids_inputting.npy\")\n",
    "\n",
    "model = AutoEncoder(\n",
    "    reload=True,\n",
    "    reload_from=f\"{model_directory}/{model_id}\"\n",
    ")"
   ]
  },
  {
   "cell_type": "code",
   "execution_count": 42,
   "metadata": {},
   "outputs": [],
   "source": [
    "scores_names = {\n",
    "    \"correlation\": \"Correlation score\",\n",
    "    \"correlation_filter_250kms\": \"Correlation score with a 250 kms filter\",\n",
    "    \"cosine\": \"Cosine disimilarity score\",\n",
    "    \"cosine_filter_250kms\": \"Cosine disimilarity score with a 250 kms filter\",\n",
    "    \"lp_noRel100\": \"lp score\",\n",
    "    \"lp_filter_250kms_noRel100\": \"lp score with a 250 kms filter\",\n",
    "    \"lp_noRel97\": \"lp score ignoring 3% of largest residuals\",\n",
    "    \"lp_filter_250kms_noRel97\": \"lp score ignoring 3% of largest residuals with a 250 kms filter\",\n",
    "    \"lp_rel100\": \"lp relative score\",\n",
    "    \"lp_filter_250kms_rel100\": \"lp relative score with a 250 kms filter\",\n",
    "    \"lp_rel97\": \"lp relative score\\n ignoring 3% of largest residuals\",\n",
    "    \"lp_filter_250kms_rel97\": \"lp relative score ignoring 3% of largest residuals with a 250 kms filter\",\n",
    "}\n",
    "\n",
    "# df_scores = {}\n",
    "set_scores_index = {}\n",
    "anomalies = {}\n",
    "\n",
    "for metric in scores_names.keys():\n",
    "    \n",
    "    specobjids = pd.read_csv(\n",
    "        f\"{scores_directory}/{metric}/top_anomalies.csv.gz\",\n",
    "        index_col=\"specobjid\",\n",
    "    ).index[-50:]\n",
    "    \n",
    "    set_scores_index[metric] = set(specobjids)\n",
    "    \n",
    "    anomalies[metric] = np.load(\n",
    "        f\"{scores_directory}/{metric}/top_anomalies.npy\",\n",
    "        mmap_mode=\"r\"\n",
    "    )"
   ]
  },
  {
   "cell_type": "markdown",
   "metadata": {},
   "source": [
    "# Lp scores"
   ]
  },
  {
   "cell_type": "markdown",
   "metadata": {},
   "source": [
    "### Filters"
   ]
  },
  {
   "cell_type": "code",
   "execution_count": 45,
   "metadata": {},
   "outputs": [],
   "source": [
    "def plot_compare():\n",
    "    fig, axs = plt.subplots(nrows=2, ncols=1, sharex=True, tight_layout=True)\n",
    "\n",
    "    axs[1].set_xlabel(\"$\\lambda [\\AA]$\")\n",
    "    axs[0].set_ylabel(\"Median normalized flux\")\n",
    "    axs[1].set_ylabel(\"Residual\")\n",
    "\n",
    "    return fig, axs\n",
    "\n",
    "def compare(spectra_idx):\n",
    "    observation = spectra[spectra_idx]\n",
    "    reconstruction = model.reconstruct(observation).reshape(-1)\n",
    "    residual = np.abs(observation-reconstruction)\n",
    "\n",
    "    return observation, reconstruction, residual\n"
   ]
  },
  {
   "cell_type": "code",
   "execution_count": 53,
   "metadata": {},
   "outputs": [
    {
     "name": "stdout",
     "output_type": "stream",
     "text": [
      "intersection len: 47\n",
      "3 3\n"
     ]
    }
   ],
   "source": [
    "lp_filter = [\"lp_noRel100\", \"lp_filter_250kms_noRel100\"]\n",
    "intersection_set = set_scores_index[\"lp_noRel100\"]\n",
    "\n",
    "for metric in lp_filter:\n",
    "\n",
    "    intersection_set = intersection_set.intersection(\n",
    "        set_scores_index[metric]\n",
    "    )\n",
    "print(\"intersection len:\", len(intersection_set))\n",
    "\n",
    "diff_in_filter = set_scores_index[\"lp_filter_250kms_noRel100\"].difference(\n",
    "    intersection_set\n",
    ")\n",
    "\n",
    "diff_in_no_filter = set_scores_index[\"lp_noRel100\"].difference(\n",
    "    intersection_set\n",
    ")\n",
    "\n",
    "print(len(diff_in_filter), len(diff_in_no_filter))\n",
    "\n",
    "idxs_no_filter = []\n",
    "for specobjid in diff_in_no_filter:\n",
    "    idx = specobjid_to_idx(specobjid=specobjid, ids=ids)\n",
    "    idxs_no_filter.append([idx, specobjid])\n",
    "\n",
    "idxs_filter = []\n",
    "for specobjid in diff_in_filter:\n",
    "    idx = specobjid_to_idx(specobjid=specobjid, ids=ids)\n",
    "    idxs_filter.append([idx, specobjid])\n"
   ]
  },
  {
   "cell_type": "code",
   "execution_count": 54,
   "metadata": {},
   "outputs": [
    {
     "data": {
      "text/plain": [
       "[<matplotlib.lines.Line2D at 0x7f0c66e27a30>]"
      ]
     },
     "execution_count": 54,
     "metadata": {},
     "output_type": "execute_result"
    },
    {
     "data": {
      "image/png": "[encoded data removed]",
      "text/plain": [
       "<Figure size 432x288 with 2 Axes>"
      ]
     },
     "metadata": {
      "needs_background": "light"
     },
     "output_type": "display_data"
    }
   ],
   "source": [
    "observation, reconstruction, residual = compare(idxs_filter[0][0])\n",
    "\n",
    "fig, axs = plot_compare()\n",
    "\n",
    "for ax in axs: ax.clear()\n",
    "\n",
    "axs[0].plot(wave, observation, c=\"black\", label=\"observation\")\n",
    "axs[0].plot(wave, reconstruction, c=\"red\", label=\"reconstruction\")\n",
    "axs[0].legend()\n",
    "\n",
    "axs[1].plot(wave, residual, c=\"black\")"
   ]
  },
  {
   "cell_type": "code",
   "execution_count": 56,
   "metadata": {},
   "outputs": [
    {
     "data": {
      "image/png": "[encoded data removed]",
      "text/plain": [
       "<Figure size 432x288 with 1 Axes>"
      ]
     },
     "metadata": {
      "needs_background": "light"
     },
     "output_type": "display_data"
    }
   ],
   "source": [
    "save_to = \"/home/edgar/explain-me-why/sections/figures/score/lp/filter\"\n",
    "fig, ax = plt.subplots(tight_layout=True)\n",
    "\n",
    "for idx_id in idxs_no_filter:\n",
    "    \n",
    "    specobjid = idx_id[1]\n",
    "\n",
    "    ax.clear()\n",
    "\n",
    "    ax.title.set_text(f\"specobjid: {specobjid}\")\n",
    "\n",
    "    ax.set_xlabel(\"$\\lambda [\\AA]$\")\n",
    "    ax.set_ylabel(\"Median normalized flux\")\n",
    "\n",
    "    ax.plot(\n",
    "        wave, spectra[idx_id[0]],\n",
    "        color=\"black\", #label=f\"specobjid: {specobjid}\"\n",
    "        lw=0.75\n",
    "    )\n",
    "    plot_name = f\"lp_{idx_id[0]}\"\n",
    "    # fig.savefig(f\"{save_to}/{plot_name}.png\")\n",
    "    fig.savefig(f\"{save_to}/{plot_name}.pdf\")\n",
    "\n",
    "for idx_id in idxs_filter:\n",
    "    \n",
    "    specobjid = idx_id[1]\n",
    "\n",
    "    ax.clear()\n",
    "\n",
    "    ax.title.set_text(f\"specobjid: {specobjid}\")\n",
    "\n",
    "    ax.set_xlabel(\"$\\lambda [\\AA]$\")\n",
    "    ax.set_ylabel(\"Median normalized flux\")\n",
    "\n",
    "    ax.plot(\n",
    "        wave, spectra[idx_id[0]],\n",
    "        color=\"black\", #label=f\"specobjid: {specobjid}\"\n",
    "        lw=0.75\n",
    "    )\n",
    "    plot_name = f\"lp_filter_{idx_id[0]}\"\n",
    "    # fig.savefig(f\"{save_to}/{plot_name}.png\")\n",
    "    fig.savefig(f\"{save_to}/{plot_name}.pdf\")"
   ]
  },
  {
   "cell_type": "code",
   "execution_count": null,
   "metadata": {},
   "outputs": [],
   "source": []
  }
 ],
 "metadata": {
  "kernelspec": {
   "display_name": "Python 3.10.4 64-bit",
   "language": "python",
   "name": "python3"
  },
  "language_info": {
   "codemirror_mode": {
    "name": "ipython",
    "version": 3
   },
   "file_extension": ".py",
   "mimetype": "text/x-python",
   "name": "python",
   "nbconvert_exporter": "python",
   "pygments_lexer": "ipython3",
   "version": "3.10.4"
  },
  "orig_nbformat": 4,
  "vscode": {
   "interpreter": {
    "hash": "916dbcbb3f70747c44a77c7bcd40155683ae19c65e1c03b4aa3499c5328201f1"
   }
  }
 },
 "nbformat": 4,
 "nbformat_minor": 2
}
