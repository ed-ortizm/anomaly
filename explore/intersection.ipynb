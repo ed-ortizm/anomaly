{
 "cells": [
  {
   "cell_type": "code",
   "execution_count": 1,
   "metadata": {},
   "outputs": [],
   "source": [
    "import glob\n",
    "import matplotlib.pyplot as plt\n",
    "import numpy as np\n",
    "import pandas as pd\n",
    "from sdss.metadata import MetaData\n",
    "meta = MetaData()\n",
    "%matplotlib inline"
   ]
  },
  {
   "cell_type": "code",
   "execution_count": 2,
   "metadata": {},
   "outputs": [],
   "source": [
    "def specobjid_to_idx(specobjid: int, ids: np.array):\n",
    "    mask = np.where(ids[:, 1]==specobjid, True, False)\n",
    "    idx = int(ids[mask, 0][0])\n",
    "    return idx\n",
    "\n",
    "def set_intersection(specobjids: dict, max_rank: int, min_rank: int):\n",
    "\n",
    "    \"\"\"\n",
    "    INPUT\n",
    "    specobjids: dictionary with arrays of specobjids ordered by anomalous\n",
    "        rank\n",
    "        key: score name, e.g, lp_noRel100\n",
    "        value: set with specobjid of spectra\n",
    "    max_rank: the (max_rank+1)^{th} most anomalous spectrum\n",
    "    min_rank: the (min_rank+1)^{th} most anomalous spectrum\n",
    "        If the rank is 0 then it is the most anomalous spectrum\n",
    "        If the rank is 1,then it is the second mosth anomalous spectrum...\n",
    "    \"\"\"\n",
    "    score_names = list(specobjids.keys())\n",
    "    # Adjust ranks\n",
    "    if min_rank == 0:\n",
    "\n",
    "        specobjids = {\n",
    "            score_name: specobjids[score_name][-max_rank:] for score_name in score_names\n",
    "            }\n",
    "\n",
    "    else:\n",
    "\n",
    "        specobjids = {\n",
    "            score_name: specobjids[score_name][-max_rank:-min_rank] for score_name in score_names\n",
    "            }\n",
    "    \n",
    "    # get a set of any score\n",
    "    intersection_set = set(specobjids[score_names[0]])\n",
    "\n",
    "    for score_name in score_names:\n",
    "\n",
    "        intersection_set = intersection_set.intersection(\n",
    "            set(specobjids[score_name])\n",
    "        )\n",
    "    \n",
    "    return intersection_set\n",
    "\n",
    "def set_difference(specobjids: set, intersection_specobjids: set):\n",
    "\n",
    "    set_difference = specobjids.difference(intersection_specobjids)\n",
    "    \n",
    "    return set_difference"
   ]
  },
  {
   "cell_type": "code",
   "execution_count": 3,
   "metadata": {},
   "outputs": [],
   "source": [
    "meta_data_directory = \"/home/edgar/spectra/0_01_z_0_5_4_0_snr_inf\"\n",
    "scores_directory = f\"{meta_data_directory}/bin_04/explanation/256_128_64/latent_12\"\n",
    "wave = np.load(f\"{meta_data_directory}/wave.npy\")\n",
    "spectra = np.load(f\"{meta_data_directory}/spectra.npy\", mmap_mode=\"r\")\n",
    "ids = np.load(f\"{meta_data_directory}/ids_inputting.npy\")"
   ]
  },
  {
   "cell_type": "markdown",
   "metadata": {},
   "source": [
    "## Get sets of specobjids of anomalous spectra per score"
   ]
  },
  {
   "cell_type": "code",
   "execution_count": 4,
   "metadata": {},
   "outputs": [],
   "source": [
    "scores_names = {\n",
    "    \"correlation\": \"Correlation score\",\n",
    "    \"correlation_filter_250kms\": \"Correlation score with a 250 kms filter\",\n",
    "    \"cosine\": \"Cosine disimilarity score\",\n",
    "    \"cosine_filter_250kms\": \"Cosine disimilarity score with a 250 kms filter\",\n",
    "    \"lp_noRel100\": \"lp score\",\n",
    "    \"lp_filter_250kms_noRel100\": \"lp score with a 250 kms filter\",\n",
    "    \"lp_noRel97\": \"lp score ignoring 3% of largest residuals\",\n",
    "    \"lp_filter_250kms_noRel97\": \"lp score ignoring 3% of largest residuals with a 250 kms filter\",\n",
    "    \"lp_rel100\": \"lp relative score\",\n",
    "    \"lp_filter_250kms_rel100\": \"lp relative score with a 250 kms filter\",\n",
    "    \"lp_rel97\": \"lp relative score\\n ignoring 3% of largest residuals\",\n",
    "    \"lp_filter_250kms_rel97\": \"lp relative score ignoring 3% of largest residuals with a 250 kms filter\",\n",
    "    \"mse_noRel100\": \"MSE score\",\n",
    "    \"mse_filter_250kms_noRel100\": \"MSE score with a 250 kms filter\",\n",
    "    \"mse_noRel97\": \"MSE score ignoring 3% of largest residuals\",\n",
    "    \"mse_filter_250kms_noRel97\": \"MSE score ignoring 3% of largest residuals with a 250 kms filter\",\n",
    "    \"mse_rel100\": \"MSE relative score\",\n",
    "    \"mse_filter_250kms_rel100\": \"MSE relative score with a 250 kms filter\",\n",
    "    \"mse_rel97\": \"MSE relative score\\n ignoring 3% of largest residuals\",\n",
    "    \"mse_filter_250kms_rel97\": \"MSE relative score ignoring 3% of largest residuals with a 250 kms filter\",\n",
    "    \"mad_noRel100\": \"MAD score\",\n",
    "    \"mad_filter_250kms_noRel100\": \"MAD score with a 250 kms filter\",\n",
    "    \"mad_noRel97\": \"MAD score ignoring 3% of largest residuals\",\n",
    "    \"mad_filter_250kms_noRel97\": \"MAD score ignoring 3% of largest residuals with a 250 kms filter\",\n",
    "    \"mad_rel100\": \"MAD relative score\",\n",
    "    \"mad_filter_250kms_rel100\": \"MAD relative score with a 250 kms filter\",\n",
    "    \"mad_rel97\": \"MAD relative score\\n ignoring 3% of largest residuals\",\n",
    "    \"mad_filter_250kms_rel97\": \"MAD relative score ignoring 3% of largest residuals with a 250 kms filter\"\n",
    "}"
   ]
  },
  {
   "cell_type": "code",
   "execution_count": 5,
   "metadata": {},
   "outputs": [],
   "source": [
    "scores_specobjid = {}\n",
    "\n",
    "for score_name in scores_names.keys():\n",
    "    \n",
    "    specobjids = pd.read_csv(\n",
    "        f\"{scores_directory}/{score_name}/top_anomalies.csv.gz\",\n",
    "        index_col=\"specobjid\",\n",
    "    ).index\n",
    "        \n",
    "    scores_specobjid[score_name] = specobjids"
   ]
  },
  {
   "cell_type": "markdown",
   "metadata": {},
   "source": [
    "### Intersection of all scores"
   ]
  },
  {
   "cell_type": "code",
   "execution_count": 6,
   "metadata": {},
   "outputs": [
    {
     "name": "stdout",
     "output_type": "stream",
     "text": [
      "Max rank: 10000, Min rank: 0\n",
      "Number of anomalies: 10000\n",
      "Percentage of common anomalies for all scores: 0.16\n"
     ]
    }
   ],
   "source": [
    "max_rank = 10000\n",
    "min_rank = 0\n",
    "print(f\"Max rank: {max_rank}, Min rank: {min_rank}\")\n",
    "\n",
    "number_of_anomalies = max_rank - min_rank\n",
    "print(f\"Number of anomalies: {number_of_anomalies}\")\n",
    "\n",
    "intersection_all_scores = set_intersection(\n",
    "    scores_specobjid, max_rank=max_rank, min_rank=min_rank\n",
    ")\n",
    "\n",
    "percentage_intersection = (len(intersection_all_scores)/number_of_anomalies)*100\n",
    "\n",
    "print(f\"Percentage of common anomalies for all scores: {percentage_intersection:.2f}\")"
   ]
  },
  {
   "cell_type": "markdown",
   "metadata": {},
   "source": [
    "## $L^p$ scores"
   ]
  },
  {
   "cell_type": "code",
   "execution_count": 7,
   "metadata": {},
   "outputs": [
    {
     "name": "stdout",
     "output_type": "stream",
     "text": [
      "Max rank: 1000, Min rank: 0\n",
      "Number of anomalies: 1000\n",
      "Common anomalies for all lp scores: 2.50%\n"
     ]
    }
   ],
   "source": [
    "lp_scores = [\n",
    "    \"lp_noRel100\",\n",
    "    \"lp_noRel97\",\n",
    "    \"lp_filter_250kms_noRel100\",\n",
    "    \"lp_filter_250kms_noRel97\",\n",
    "    \"lp_rel100\",\n",
    "    \"lp_rel97\",\n",
    "    \"lp_filter_250kms_rel100\",\n",
    "    \"lp_filter_250kms_rel97\"\n",
    "    ]\n",
    "\n",
    "lp_specobjids = {score_name: scores_specobjid[score_name] for score_name in lp_scores}\n",
    "\n",
    "max_rank = 1000\n",
    "min_rank = 0\n",
    "print(f\"Max rank: {max_rank}, Min rank: {min_rank}\")\n",
    "\n",
    "number_of_anomalies = max_rank - min_rank\n",
    "print(f\"Number of anomalies: {number_of_anomalies}\")\n",
    "\n",
    "\n",
    "intersection_all_scores = set_intersection(\n",
    "    lp_specobjids, max_rank=max_rank, min_rank=min_rank\n",
    ")\n",
    "percentage_intersection = (len(intersection_all_scores)/number_of_anomalies)*100\n",
    "\n",
    "print(f\"Common anomalies for all lp scores: {percentage_intersection:.2f}%\")\n"
   ]
  },
  {
   "cell_type": "code",
   "execution_count": 8,
   "metadata": {},
   "outputs": [
    {
     "name": "stdout",
     "output_type": "stream",
     "text": [
      "Max rank: 1000, Min rank: 0\n",
      "Number of anomalies: 1000\n",
      "Intersection of ['lp_noRel100', 'lp_rel100']= 3.70%\n",
      "Intersection of ['lp_noRel100', 'lp_filter_250kms_noRel100']= 88.60%\n",
      "Intersection of ['lp_noRel100', 'lp_filter_250kms_rel100']= 3.70%\n",
      "Intersection of ['lp_noRel100', 'lp_noRel97']= 92.00%\n",
      "Intersection of ['lp_noRel100', 'lp_rel97']= 3.40%\n",
      "Intersection of ['lp_noRel100', 'lp_filter_250kms_noRel97']= 86.40%\n",
      "Intersection of ['lp_noRel100', 'lp_filter_250kms_rel97']= 3.40%\n"
     ]
    }
   ],
   "source": [
    "compare_lp = {\n",
    "\"lp_vs_lp_relative\": [\"lp_noRel100\", \"lp_rel100\"],\n",
    "\"lp_vs_lp_filter\" : [\"lp_noRel100\", \"lp_filter_250kms_noRel100\"],\n",
    "\"lp_vs_lp_filter_relative\": [\"lp_noRel100\", \"lp_filter_250kms_rel100\"],\n",
    "\"lp_vs_lp_ignore\": [\"lp_noRel100\", \"lp_noRel97\"],\n",
    "\"lp_vs_lp_relative_ignore\": [\"lp_noRel100\", \"lp_rel97\"],\n",
    "\"lp_vs_lp_filter_ignore\": [\"lp_noRel100\", \"lp_filter_250kms_noRel97\"],\n",
    "\"lp_vs_lp_filter_relative_ignore\": [\"lp_noRel100\", \"lp_filter_250kms_rel97\"],\n",
    "}\n",
    "max_rank = 1000\n",
    "min_rank = 0\n",
    "print(f\"Max rank: {max_rank}, Min rank: {min_rank}\")\n",
    "\n",
    "number_of_anomalies = max_rank - min_rank\n",
    "print(f\"Number of anomalies: {number_of_anomalies}\")\n",
    "\n",
    "for lp_comparison in compare_lp.keys():\n",
    "    \n",
    "    pair_of_sets = {\n",
    "        score_name: scores_specobjid[score_name] for score_name in compare_lp[lp_comparison]\n",
    "    }\n",
    "    \n",
    "    intersection_set = set_intersection(\n",
    "        pair_of_sets, max_rank=max_rank, min_rank=min_rank)\n",
    "\n",
    "    number_of_intesections = len(intersection_set)\n",
    "    percentage_of_intersection = (number_of_intesections/number_of_anomalies)*100\n",
    "    \n",
    "    print(f\"Intersection of {compare_lp[lp_comparison]}= {percentage_of_intersection:.2f}%\")\n"
   ]
  },
  {
   "cell_type": "markdown",
   "metadata": {},
   "source": [
    "## MAD scores"
   ]
  },
  {
   "cell_type": "code",
   "execution_count": 9,
   "metadata": {},
   "outputs": [
    {
     "name": "stdout",
     "output_type": "stream",
     "text": [
      "Max rank: 1000, Min rank: 0\n",
      "Number of anomalies: 1000\n",
      "Common anomalies for all MAD scores: 27.00%\n"
     ]
    }
   ],
   "source": [
    "mad_scores = [\n",
    "    \"mad_noRel100\",\n",
    "    \"mad_noRel97\",\n",
    "    \"mad_filter_250kms_noRel100\",\n",
    "    \"mad_filter_250kms_noRel97\",\n",
    "    \"mad_rel100\",\n",
    "    \"mad_rel97\",\n",
    "    \"mad_filter_250kms_rel100\",\n",
    "    \"mad_filter_250kms_rel97\"\n",
    "    ]\n",
    "mad_specobjids = {score_name: scores_specobjid[score_name] for score_name in mad_scores}\n",
    "\n",
    "max_rank = 1000\n",
    "min_rank = 0\n",
    "print(f\"Max rank: {max_rank}, Min rank: {min_rank}\")\n",
    "\n",
    "number_of_anomalies = max_rank - min_rank\n",
    "print(f\"Number of anomalies: {number_of_anomalies}\")\n",
    "\n",
    "intersection_all_scores = set_intersection(\n",
    "    mad_specobjids, max_rank=max_rank, min_rank=min_rank\n",
    ")\n",
    "percentage_intersection = (len(intersection_all_scores)/number_of_anomalies)*100\n",
    "\n",
    "print(f\"Common anomalies for all MAD scores: {percentage_intersection:.2f}%\")\n"
   ]
  },
  {
   "cell_type": "code",
   "execution_count": 10,
   "metadata": {},
   "outputs": [
    {
     "name": "stdout",
     "output_type": "stream",
     "text": [
      "Max rank: 1000, Min rank: 0\n",
      "Number of anomalies: 1000\n",
      "Intersection of ['mad_noRel100', 'mad_rel100']= 34.00%\n",
      "Intersection of ['mad_noRel100', 'mad_filter_250kms_noRel100']= 78.60%\n",
      "Intersection of ['mad_noRel100', 'mad_filter_250kms_rel100']= 32.30%\n",
      "Intersection of ['mad_noRel100', 'mad_noRel97']= 75.70%\n",
      "Intersection of ['mad_noRel100', 'mad_rel97']= 46.50%\n",
      "Intersection of ['mad_noRel100', 'mad_filter_250kms_noRel97']= 68.70%\n",
      "Intersection of ['mad_noRel100', 'mad_filter_250kms_rel97']= 45.10%\n"
     ]
    }
   ],
   "source": [
    "compare_mad = {\n",
    "\"mad_vs_mad_relative\": [\"mad_noRel100\", \"mad_rel100\"],\n",
    "\"mad_vs_mad_filter\" : [\"mad_noRel100\", \"mad_filter_250kms_noRel100\"],\n",
    "\"mad_vs_mad_filter_relative\": [\"mad_noRel100\", \"mad_filter_250kms_rel100\"],\n",
    "\"mad_vs_mad_ignore\": [\"mad_noRel100\", \"mad_noRel97\"],\n",
    "\"mad_vs_mad_relative_ignore\": [\"mad_noRel100\", \"mad_rel97\"],\n",
    "\"mad_vs_mad_filter_ignore\": [\"mad_noRel100\", \"mad_filter_250kms_noRel97\"],\n",
    "\"mad_vs_mad_filter_relative_ignore\": [\"mad_noRel100\", \"mad_filter_250kms_rel97\"],\n",
    "}\n",
    "\n",
    "max_rank = 1000\n",
    "min_rank = 0\n",
    "print(f\"Max rank: {max_rank}, Min rank: {min_rank}\")\n",
    "\n",
    "number_of_anomalies = max_rank - min_rank\n",
    "print(f\"Number of anomalies: {number_of_anomalies}\")\n",
    "\n",
    "for mad_comparison in compare_mad.keys():\n",
    "    \n",
    "    pair_of_sets = {\n",
    "        score_name: scores_specobjid[score_name] for score_name in compare_mad[mad_comparison]\n",
    "    }\n",
    "    \n",
    "    intersection_set = set_intersection(\n",
    "        pair_of_sets, max_rank=max_rank, min_rank=min_rank\n",
    "    )\n",
    "\n",
    "    number_of_intesections = len(intersection_set)\n",
    "    percentage_of_intersection = (number_of_intesections/(number_of_anomalies))*100\n",
    "    \n",
    "    print(f\"Intersection of {compare_mad[mad_comparison]}= {percentage_of_intersection:.2f}%\")\n"
   ]
  },
  {
   "cell_type": "markdown",
   "metadata": {},
   "source": [
    "## MSE scores"
   ]
  },
  {
   "cell_type": "code",
   "execution_count": 11,
   "metadata": {},
   "outputs": [
    {
     "name": "stdout",
     "output_type": "stream",
     "text": [
      "Max rank: 1000, Min rank: 0\n",
      "Number of anomalies: 1000\n",
      "Common anomalies for all MSE scores: 19.50%\n"
     ]
    }
   ],
   "source": [
    "mse_scores = [\n",
    "    \"mse_noRel100\",\n",
    "    \"mse_noRel97\",\n",
    "    \"mse_filter_250kms_noRel100\",\n",
    "    \"mse_filter_250kms_noRel97\",\n",
    "    \"mse_rel100\",\n",
    "    \"mse_rel97\",\n",
    "    \"mse_filter_250kms_rel100\",\n",
    "    \"mse_filter_250kms_rel97\"\n",
    "    ]\n",
    "\n",
    "mse_specobjids = {score_name: scores_specobjid[score_name] for score_name in mse_scores}\n",
    "\n",
    "max_rank = 1000\n",
    "min_rank = 0\n",
    "print(f\"Max rank: {max_rank}, Min rank: {min_rank}\")\n",
    "\n",
    "number_of_anomalies = max_rank - min_rank\n",
    "print(f\"Number of anomalies: {number_of_anomalies}\")\n",
    "\n",
    "intersection_all_scores = set_intersection(\n",
    "    mse_specobjids, max_rank=max_rank, min_rank=min_rank\n",
    ")\n",
    "percentage_intersection = (len(intersection_all_scores)/number_of_anomalies)*100\n",
    "\n",
    "print(f\"Common anomalies for all MSE scores: {percentage_intersection:.2f}%\")\n"
   ]
  },
  {
   "cell_type": "code",
   "execution_count": 12,
   "metadata": {},
   "outputs": [
    {
     "name": "stdout",
     "output_type": "stream",
     "text": [
      "Max rank: 10000, Min rank: 0\n",
      "Number of anomalies: 10000\n",
      "Intersection of ['mse_noRel100', 'mse_rel100']= 80.32%\n",
      "Intersection of ['mse_noRel100', 'mse_filter_250kms_noRel100']= 79.55%\n",
      "Intersection of ['mse_noRel100', 'mse_filter_250kms_rel100']= 68.75%\n",
      "Intersection of ['mse_noRel100', 'mse_noRel97']= 65.32%\n",
      "Intersection of ['mse_noRel100', 'mse_rel97']= 63.47%\n",
      "Intersection of ['mse_noRel100', 'mse_filter_250kms_noRel97']= 62.06%\n",
      "Intersection of ['mse_noRel100', 'mse_filter_250kms_rel97']= 59.68%\n"
     ]
    }
   ],
   "source": [
    "compare_mse = {\n",
    "\"mse_vs_mse_relative\": [\"mse_noRel100\", \"mse_rel100\"],\n",
    "\"mse_vs_mse_filter\" : [\"mse_noRel100\", \"mse_filter_250kms_noRel100\"],\n",
    "\"mse_vs_mse_filter_relative\": [\"mse_noRel100\", \"mse_filter_250kms_rel100\"],\n",
    "\"mse_vs_mse_ignore\": [\"mse_noRel100\", \"mse_noRel97\"],\n",
    "\"mse_vs_mse_relative_ignore\": [\"mse_noRel100\", \"mse_rel97\"],\n",
    "\"mse_vs_mse_filter_ignore\": [\"mse_noRel100\", \"mse_filter_250kms_noRel97\"],\n",
    "\"mse_vs_mse_filter_relative_ignore\": [\"mse_noRel100\", \"mse_filter_250kms_rel97\"],\n",
    "}\n",
    "\n",
    "max_rank = 10000\n",
    "min_rank = 0\n",
    "print(f\"Max rank: {max_rank}, Min rank: {min_rank}\")\n",
    "\n",
    "number_of_anomalies = max_rank - min_rank\n",
    "print(f\"Number of anomalies: {number_of_anomalies}\")\n",
    "\n",
    "for mse_comparison in compare_mse.keys():\n",
    "    \n",
    "    pair_of_sets = {\n",
    "        score_name: scores_specobjid[score_name] for score_name in compare_mse[mse_comparison]\n",
    "    }\n",
    "    \n",
    "    intersection_set = set_intersection(\n",
    "        pair_of_sets, max_rank=max_rank, min_rank=min_rank\n",
    "    )\n",
    "\n",
    "    number_of_intesections = len(intersection_set)\n",
    "    percentage_of_intersection = (number_of_intesections/number_of_anomalies)*100\n",
    "    \n",
    "    print(f\"Intersection of {compare_mse[mse_comparison]}= {percentage_of_intersection:.2f}%\")\n"
   ]
  },
  {
   "cell_type": "markdown",
   "metadata": {},
   "source": [
    "## Residuals based scores"
   ]
  },
  {
   "cell_type": "code",
   "execution_count": 13,
   "metadata": {},
   "outputs": [
    {
     "name": "stdout",
     "output_type": "stream",
     "text": [
      "Max rank: 10000, Min rank: 0\n",
      "Number of anomalies: 10000\n",
      "Common anomalies for all tata scores: 2.41%\n"
     ]
    }
   ],
   "source": [
    "residual_scores = lp_scores + mad_scores + mse_scores\n",
    "residual_specobjids = {score_name: scores_specobjid[score_name] for score_name in residual_scores}\n",
    "\n",
    "max_rank = 10000\n",
    "min_rank = 0\n",
    "print(f\"Max rank: {max_rank}, Min rank: {min_rank}\")\n",
    "\n",
    "number_of_anomalies = max_rank - min_rank\n",
    "print(f\"Number of anomalies: {number_of_anomalies}\")\n",
    "\n",
    "intersection_all_scores = set_intersection(\n",
    "    residual_specobjids, max_rank=max_rank, min_rank=min_rank\n",
    ")\n",
    "percentage_intersection = (len(intersection_all_scores)/number_of_anomalies)*100\n",
    "\n",
    "print(f\"Common anomalies for all tata scores: {percentage_intersection:.2f}%\")\n"
   ]
  },
  {
   "cell_type": "code",
   "execution_count": 21,
   "metadata": {},
   "outputs": [
    {
     "name": "stdout",
     "output_type": "stream",
     "text": [
      "Max rank: 100, Min rank: 0\n",
      "Number of anomalies: 100\n",
      "Common anomalies for all tata scores: 23.00%\n"
     ]
    }
   ],
   "source": [
    "tata_scores = [\n",
    "    \"lp_noRel100\",\n",
    "    # \"mad_noRel100\",\n",
    "    \"mse_noRel100\",\n",
    "    # \"lp_rel100\",\n",
    "    # \"mad_rel100\",\n",
    "    # \"mse_noRel97\",\n",
    "\n",
    "]\n",
    "tata_specobjids = {score_name: scores_specobjid[score_name] for score_name in tata_scores}\n",
    "\n",
    "max_rank = 100\n",
    "min_rank = 0\n",
    "print(f\"Max rank: {max_rank}, Min rank: {min_rank}\")\n",
    "\n",
    "number_of_anomalies = max_rank - min_rank\n",
    "print(f\"Number of anomalies: {number_of_anomalies}\")\n",
    "\n",
    "intersection_all_scores = set_intersection(\n",
    "    tata_specobjids, max_rank=max_rank, min_rank=min_rank\n",
    ")\n",
    "percentage_intersection = (len(intersection_all_scores)/number_of_anomalies)*100\n",
    "\n",
    "print(f\"Common anomalies for all tata scores: {percentage_intersection:.2f}%\")\n"
   ]
  },
  {
   "cell_type": "markdown",
   "metadata": {},
   "source": [
    "## Cosine scores"
   ]
  },
  {
   "cell_type": "code",
   "execution_count": 161,
   "metadata": {},
   "outputs": [
    {
     "name": "stdout",
     "output_type": "stream",
     "text": [
      "Max rank: 100, Min rank: 0\n",
      "Number of anomalies: 100\n",
      "Common anomalies for all MSE scores: 66.00%\n"
     ]
    }
   ],
   "source": [
    "cosine_scores = [\n",
    "    \"cosine\",\n",
    "    \"cosine_filter_250kms\"\n",
    "    ]\n",
    "\n",
    "cosine_specobjids = {score_name: scores_specobjid[score_name] for score_name in cosine_scores}\n",
    "\n",
    "max_rank = 100\n",
    "min_rank = 0\n",
    "print(f\"Max rank: {max_rank}, Min rank: {min_rank}\")\n",
    "\n",
    "number_of_anomalies = max_rank - min_rank\n",
    "print(f\"Number of anomalies: {number_of_anomalies}\")\n",
    "\n",
    "intersection_all_scores = set_intersection(\n",
    "    cosine_specobjids, max_rank=max_rank, min_rank=min_rank\n",
    ")\n",
    "percentage_intersection = (len(intersection_all_scores)/number_of_anomalies)*100\n",
    "\n",
    "print(f\"Common anomalies for all MSE scores: {percentage_intersection:.2f}%\")\n"
   ]
  },
  {
   "cell_type": "markdown",
   "metadata": {},
   "source": [
    "## Correlation scores"
   ]
  },
  {
   "cell_type": "code",
   "execution_count": 162,
   "metadata": {},
   "outputs": [
    {
     "name": "stdout",
     "output_type": "stream",
     "text": [
      "Max rank: 100, Min rank: 0\n",
      "Number of anomalies: 100\n",
      "Common anomalies for all MSE scores: 59.00%\n"
     ]
    }
   ],
   "source": [
    "correlation_scores = [\n",
    "    \"correlation\",\n",
    "    \"correlation_filter_250kms\"\n",
    "    ]\n",
    "\n",
    "correlation_specobjids = {score_name: scores_specobjid[score_name] for score_name in correlation_scores}\n",
    "\n",
    "max_rank = 100\n",
    "min_rank = 0\n",
    "print(f\"Max rank: {max_rank}, Min rank: {min_rank}\")\n",
    "\n",
    "number_of_anomalies = max_rank - min_rank\n",
    "print(f\"Number of anomalies: {number_of_anomalies}\")\n",
    "\n",
    "intersection_all_scores = set_intersection(\n",
    "    correlation_specobjids, max_rank=max_rank, min_rank=min_rank\n",
    ")\n",
    "percentage_intersection = (len(intersection_all_scores)/number_of_anomalies)*100\n",
    "\n",
    "print(f\"Common anomalies for all MSE scores: {percentage_intersection:.2f}%\")\n"
   ]
  },
  {
   "cell_type": "code",
   "execution_count": null,
   "metadata": {},
   "outputs": [],
   "source": []
  }
 ],
 "metadata": {
  "kernelspec": {
   "display_name": "Python 3.10.4 64-bit",
   "language": "python",
   "name": "python3"
  },
  "language_info": {
   "codemirror_mode": {
    "name": "ipython",
    "version": 3
   },
   "file_extension": ".py",
   "mimetype": "text/x-python",
   "name": "python",
   "nbconvert_exporter": "python",
   "pygments_lexer": "ipython3",
   "version": "3.10.4"
  },
  "orig_nbformat": 4,
  "vscode": {
   "interpreter": {
    "hash": "916dbcbb3f70747c44a77c7bcd40155683ae19c65e1c03b4aa3499c5328201f1"
   }
  }
 },
 "nbformat": 4,
 "nbformat_minor": 2
}
