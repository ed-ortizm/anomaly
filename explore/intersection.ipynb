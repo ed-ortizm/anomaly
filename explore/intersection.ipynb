{
 "cells": [
  {
   "cell_type": "code",
   "execution_count": 1,
   "metadata": {},
   "outputs": [],
   "source": [
    "import glob\n",
    "import matplotlib.pyplot as plt\n",
    "import numpy as np\n",
    "import pandas as pd\n",
    "from sdss.metadata import MetaData\n",
    "meta = MetaData()\n",
    "%matplotlib inline"
   ]
  },
  {
   "cell_type": "code",
   "execution_count": 2,
   "metadata": {},
   "outputs": [],
   "source": [
    "def specobjid_to_idx(specobjid: int, ids: np.array):\n",
    "    mask = np.where(ids[:, 1]==specobjid, True, False)\n",
    "    idx = int(ids[mask, 0][0])\n",
    "    return idx"
   ]
  },
  {
   "cell_type": "code",
   "execution_count": 3,
   "metadata": {},
   "outputs": [],
   "source": [
    "meta_data_directory = \"/home/edgar/spectra/0_01_z_0_5_4_0_snr_inf\"\n",
    "scores_directory = f\"{meta_data_directory}/bin_04/explanation/256_128_64/latent_12\"\n",
    "wave = np.load(f\"{meta_data_directory}/wave.npy\")\n",
    "spectra = np.load(f\"{meta_data_directory}/spectra.npy\", mmap_mode=\"r\")\n",
    "ids = np.load(f\"{meta_data_directory}/ids_inputting.npy\")"
   ]
  },
  {
   "cell_type": "code",
   "execution_count": 42,
   "metadata": {},
   "outputs": [],
   "source": [
    "scores_names = {\n",
    "    # \"correlation\": \"Correlation score\",\n",
    "    # \"correlation_filter_250kms\": \"Correlation score with a 250 kms filter\",\n",
    "    # \"cosine\": \"Cosine disimilarity score\",\n",
    "    # \"cosine_filter_250kms\": \"Cosine disimilarity score with a 250 kms filter\",\n",
    "    \"lp_noRel100\": \"lp score\",\n",
    "    \"lp_filter_250kms_noRel100\": \"lp score with a 250 kms filter\",\n",
    "    # \"lp_noRel97\": \"lp score ignoring 3% of largest residuals\",\n",
    "    # \"lp_filter_250kms_noRel97\": \"lp score ignoring 3% of largest residuals with a 250 kms filter\",\n",
    "    # \"lp_rel100\": \"lp relative score\",\n",
    "    # \"lp_filter_250kms_rel100\": \"lp relative score with a 250 kms filter\",\n",
    "    # \"lp_rel97\": \"lp relative score\\n ignoring 3% of largest residuals\",\n",
    "    # \"lp_filter_250kms_rel97\": \"lp relative score ignoring 3% of largest residuals with a 250 kms filter\",\n",
    "    # \"mse_noRel100\": \"MSE score\",\n",
    "    # \"mse_filter_250kms_noRel100\": \"MSE score with a 250 kms filter\",\n",
    "    # \"mse_noRel97\": \"MSE score ignoring 3% of largest residuals\",\n",
    "    # \"mse_filter_250kms_noRel97\": \"MSE score ignoring 3% of largest residuals with a 250 kms filter\",\n",
    "    # \"mse_rel100\": \"MSE relative score\",\n",
    "    # \"mse_filter_250kms_rel100\": \"MSE relative score with a 250 kms filter\",\n",
    "    # \"mse_rel97\": \"MSE relative score\\n ignoring 3% of largest residuals\",\n",
    "    # \"mse_filter_250kms_rel97\": \"MSE relative score ignoring 3% of largest residuals with a 250 kms filter\",\n",
    "    # \"mad_noRel100\": \"MAD score\",\n",
    "    # \"mad_filter_250kms_noRel100\": \"MAD score with a 250 kms filter\",\n",
    "    # \"mad_noRel97\": \"MAD score ignoring 3% of largest residuals\",\n",
    "    # \"mad_filter_250kms_noRel97\": \"MAD score ignoring 3% of largest residuals with a 250 kms filter\",\n",
    "    # \"mad_rel100\": \"MAD relative score\",\n",
    "    # \"mad_filter_250kms_rel100\": \"MAD relative score with a 250 kms filter\",\n",
    "    # \"mad_rel97\": \"MAD relative score\\n ignoring 3% of largest residuals\",\n",
    "    # \"mad_filter_250kms_rel97\": \"MAD relative score ignoring 3% of largest residuals with a 250 kms filter\"\n",
    "}\n",
    "# scores = {}\n",
    "set_scores_index = {}\n",
    "\n",
    "for metric in scores_names.keys():\n",
    "    \n",
    "    specobjids = pd.read_csv(\n",
    "        f\"{scores_directory}/{metric}/top_anomalies.csv.gz\",\n",
    "        index_col=\"specobjid\",\n",
    "    ).index[-50:]\n",
    "    \n",
    "    set_scores_index[metric] = set(specobjids)"
   ]
  },
  {
   "cell_type": "code",
   "execution_count": 43,
   "metadata": {},
   "outputs": [],
   "source": [
    "intersection_set = set_scores_index[list(scores_names.keys())[0]]\n",
    "\n",
    "for metric in scores_names.keys():\n",
    "\n",
    "    intersection_set = intersection_set.intersection(\n",
    "        set_scores_index[metric]\n",
    "    )\n"
   ]
  },
  {
   "cell_type": "code",
   "execution_count": 44,
   "metadata": {},
   "outputs": [
    {
     "name": "stdout",
     "output_type": "stream",
     "text": [
      "47\n"
     ]
    }
   ],
   "source": [
    "print(len(intersection_set))"
   ]
  },
  {
   "cell_type": "code",
   "execution_count": 45,
   "metadata": {},
   "outputs": [
    {
     "name": "stdout",
     "output_type": "stream",
     "text": [
      "3 3\n"
     ]
    }
   ],
   "source": [
    "diff_in_filter = set_scores_index[\"lp_filter_250kms_noRel100\"].difference(\n",
    "    intersection_set\n",
    ")\n",
    "diff_in_no_filter = set_scores_index[\"lp_noRel100\"].difference(\n",
    "    intersection_set\n",
    ")\n",
    "\n",
    "print(len(diff_in_filter), len(diff_in_no_filter))\n",
    "\n",
    "idxs_no_filter = []\n",
    "for specobjid in diff_in_no_filter:\n",
    "    idx = specobjid_to_idx(specobjid=specobjid, ids=ids)\n",
    "    idxs_no_filter.append(idx)\n",
    "\n",
    "idxs_filter = []\n",
    "for specobjid in diff_in_filter:\n",
    "    idx = specobjid_to_idx(specobjid=specobjid, ids=ids)\n",
    "    idxs_filter.append(idx)\n"
   ]
  },
  {
   "cell_type": "code",
   "execution_count": 48,
   "metadata": {},
   "outputs": [
    {
     "data": {
      "text/plain": [
       "[<matplotlib.lines.Line2D at 0x7eff43693940>]"
      ]
     },
     "execution_count": 48,
     "metadata": {},
     "output_type": "execute_result"
    },
    {
     "data": {
      "image/png": "[encoded data removed]",
      "text/plain": [
       "<Figure size 432x288 with 1 Axes>"
      ]
     },
     "metadata": {
      "needs_background": "light"
     },
     "output_type": "display_data"
    }
   ],
   "source": [
    "plt.plot(wave, spectra[idxs_no_filter[2]])"
   ]
  },
  {
   "cell_type": "code",
   "execution_count": 51,
   "metadata": {},
   "outputs": [
    {
     "data": {
      "text/plain": [
       "[<matplotlib.lines.Line2D at 0x7eff43595db0>]"
      ]
     },
     "execution_count": 51,
     "metadata": {},
     "output_type": "execute_result"
    },
    {
     "data": {
      "image/png": "[encoded data removed]",
      "text/plain": [
       "<Figure size 432x288 with 1 Axes>"
      ]
     },
     "metadata": {
      "needs_background": "light"
     },
     "output_type": "display_data"
    }
   ],
   "source": [
    "plt.plot(wave, spectra[idxs_filter[0]])"
   ]
  },
  {
   "cell_type": "code",
   "execution_count": null,
   "metadata": {},
   "outputs": [],
   "source": []
  }
 ],
 "metadata": {
  "kernelspec": {
   "display_name": "Python 3.10.4 64-bit",
   "language": "python",
   "name": "python3"
  },
  "language_info": {
   "codemirror_mode": {
    "name": "ipython",
    "version": 3
   },
   "file_extension": ".py",
   "mimetype": "text/x-python",
   "name": "python",
   "nbconvert_exporter": "python",
   "pygments_lexer": "ipython3",
   "version": "3.10.4"
  },
  "orig_nbformat": 4,
  "vscode": {
   "interpreter": {
    "hash": "916dbcbb3f70747c44a77c7bcd40155683ae19c65e1c03b4aa3499c5328201f1"
   }
  }
 },
 "nbformat": 4,
 "nbformat_minor": 2
}
