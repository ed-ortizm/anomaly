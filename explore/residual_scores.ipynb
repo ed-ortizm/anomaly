{
 "cells": [
  {
   "cell_type": "code",
   "execution_count": 1,
   "metadata": {},
   "outputs": [],
   "source": [
    "import os\n",
    "# Set environment variables to disable multithreading as users will probably\n",
    "# want to set the number of cores to the max of their computer.\n",
    "os.environ[\"OMP_NUM_THREADS\"] = \"1\"\n",
    "os.environ[\"OPENBLAS_NUM_THREADS\"] = \"1\"\n",
    "os.environ[\"MKL_NUM_THREADS\"] = \"1\"\n",
    "os.environ[\"VECLIB_MAXIMUM_THREADS\"] = \"1\"\n",
    "os.environ[\"NUMEXPR_NUM_THREADS\"] = \"1\"\n",
    "###############################################################################\n",
    "# Set TensorFlow print of log information\n",
    "# 0 = all messages are logged (default behavior)\n",
    "# 1 = INFO messages are not printed\n",
    "# 2 = INFO and WARNING messages are not printed\n",
    "# 3 = INFO, WARNING, and ERROR messages are not printed\n",
    "os.environ[\"TF_CPP_MIN_LOG_LEVEL\"] = \"2\""
   ]
  },
  {
   "cell_type": "code",
   "execution_count": 2,
   "metadata": {},
   "outputs": [],
   "source": [
    "import glob\n",
    "import matplotlib.pyplot as plt\n",
    "import numpy as np\n",
    "import pandas as pd\n",
    "\n",
    "from sdss.metadata import MetaData\n",
    "from autoencoders.ae import AutoEncoder\n",
    "\n",
    "meta = MetaData()\n",
    "%matplotlib inline"
   ]
  },
  {
   "cell_type": "code",
   "execution_count": 3,
   "metadata": {},
   "outputs": [],
   "source": [
    "bin_id = \"bin_04\"\n",
    "model_id = \"0013\"\n",
    "architecture = \"256_128_64/latent_12\"\n",
    "\n",
    "meta_data_directory = \"/home/edgar/spectra/0_01_z_0_5_4_0_snr_inf\"\n",
    "scores_directory = f\"{meta_data_directory}/bin_04/explanation/256_128_64/latent_12\"\n",
    "model_directory = f\"{meta_data_directory}/{bin_id}/models/{architecture}\"\n",
    "\n",
    "wave = np.load(f\"{meta_data_directory}/wave.npy\")\n",
    "spectra = np.load(f\"{meta_data_directory}/spectra.npy\", mmap_mode=\"r\")\n",
    "ids = np.load(f\"{meta_data_directory}/ids_inputting.npy\")\n",
    "\n",
    "model = AutoEncoder(\n",
    "    reload=True,\n",
    "    reload_from=f\"{model_directory}/{model_id}\"\n",
    ")"
   ]
  },
  {
   "cell_type": "code",
   "execution_count": 4,
   "metadata": {},
   "outputs": [],
   "source": [
    "GALAXY_LINES = {\n",
    "    # EMISSION\n",
    "    \"OII_3726\": 3726.040,\n",
    "    \"H_delta_4101\": 4101.734,\n",
    "    \"H_gamma_4340\": 4340.472,\n",
    "    \"H_beta_4861\": 4861.352,\n",
    "    \"OIII_4959\": 4958.911,\n",
    "    \"OIII_5006\": 5006.843,\n",
    "    \"NII_6548\": 6548.041,\n",
    "    \"H_alpha_6562\": 6562.787,\n",
    "    \"NII_6583\": 6583.461,\n",
    "    \"SII_6716\": 6716.440,\n",
    "    \"SII_6730\": 6730.812,\n",
    "    # ABSORPTION\n",
    "}\n",
    "\n",
    "def plot_compare():\n",
    "    fig, axs = plt.subplots(nrows=2, ncols=2, sharex=True, tight_layout=True)\n",
    "\n",
    "    axs[1, 0].set_xlabel(\"$\\lambda [\\AA]$\")\n",
    "    axs[1, 1].set_xlabel(\"$\\lambda [\\AA]$\")\n",
    "    axs[0, 0].set_ylabel(\"Median normalized flux\")\n",
    "    axs[1, 0].set_ylabel(\"Residual\")\n",
    "\n",
    "    return fig, axs\n",
    "\n",
    "def plot_residual():\n",
    "    fig, axs = plt.subplots(\n",
    "        nrows=2, ncols=1,\n",
    "        # figsize=(20,12),\n",
    "        sharex=True,\n",
    "        tight_layout=True,\n",
    "    )\n",
    "\n",
    "    axs[0].set_ylabel(\"Median normalized flux\")\n",
    "    axs[1].set_ylabel(\"Residual\")\n",
    "    axs[1].set_xlabel(\"$\\lambda [\\AA]$\")\n",
    "\n",
    "    return fig, axs\n",
    "\n",
    "def compare(spectra_idx):\n",
    "    observation = spectra[spectra_idx]\n",
    "    reconstruction = model.reconstruct(observation).reshape(-1)\n",
    "    residual = np.abs(observation-reconstruction)\n",
    "\n",
    "    return observation, reconstruction, residual\n",
    "\n",
    "def specobjid_to_idx(specobjid: int, ids: np.array):\n",
    "    \"\"\"Obtain train idx from specobjid\"\"\"\n",
    "    mask = np.where(ids[:, 1]==specobjid, True, False)\n",
    "    idx = int(ids[mask, 0][0])\n",
    "    return idx"
   ]
  },
  {
   "cell_type": "code",
   "execution_count": 5,
   "metadata": {},
   "outputs": [],
   "source": [
    "## Get sets of specobjids of anomalous spectra per score\n",
    "scores_names = {\n",
    "    \"lp_noRel100\": \"lp score\",\n",
    "    \"lp_filter_250kms_noRel100\": \"lp score with a 250 kms filter\",\n",
    "    \"lp_noRel97\": \"lp score ignoring 3% of largest residuals\",\n",
    "    \"lp_filter_250kms_noRel97\": \"lp score ignoring 3% of largest residuals with a 250 kms filter\",\n",
    "    \"lp_rel100\": \"lp relative score\",\n",
    "    \"lp_filter_250kms_rel100\": \"lp relative score with a 250 kms filter\",\n",
    "    \"lp_rel97\": \"lp relative score\\n ignoring 3% of largest residuals\",\n",
    "    \"lp_filter_250kms_rel97\": \"lp relative score ignoring 3% of largest residuals with a 250 kms filter\",\n",
    "    \"mse_noRel100\": \"MSE score\",\n",
    "    \"mse_filter_250kms_noRel100\": \"MSE score with a 250 kms filter\",\n",
    "    \"mse_noRel97\": \"MSE score ignoring 3% of largest residuals\",\n",
    "    \"mse_filter_250kms_noRel97\": \"MSE score ignoring 3% of largest residuals with a 250 kms filter\",\n",
    "    \"mse_rel100\": \"MSE relative score\",\n",
    "    \"mse_filter_250kms_rel100\": \"MSE relative score with a 250 kms filter\",\n",
    "    \"mse_rel97\": \"MSE relative score\\n ignoring 3% of largest residuals\",\n",
    "    \"mse_filter_250kms_rel97\": \"MSE relative score ignoring 3% of largest residuals with a 250 kms filter\",\n",
    "    \"mad_noRel100\": \"MAD score\",\n",
    "    \"mad_filter_250kms_noRel100\": \"MAD score with a 250 kms filter\",\n",
    "    \"mad_noRel97\": \"MAD score ignoring 3% of largest residuals\",\n",
    "    \"mad_filter_250kms_noRel97\": \"MAD score ignoring 3% of largest residuals with a 250 kms filter\",\n",
    "    \"mad_rel100\": \"MAD relative score\",\n",
    "    \"mad_filter_250kms_rel100\": \"MAD relative score with a 250 kms filter\",\n",
    "    \"mad_rel97\": \"MAD relative score\\n ignoring 3% of largest residuals\",\n",
    "    \"mad_filter_250kms_rel97\": \"MAD relative score ignoring 3% of largest residuals with a 250 kms filter\"\n",
    "}"
   ]
  },
  {
   "cell_type": "code",
   "execution_count": 6,
   "metadata": {},
   "outputs": [],
   "source": [
    "scores_df = {}\n",
    "\n",
    "for score_name in scores_names.keys():\n",
    "    \n",
    "    score_df = pd.read_csv(\n",
    "        f\"{scores_directory}/{score_name}/top_anomalies.csv.gz\",\n",
    "        index_col=\"specobjid\",\n",
    "    )\n",
    "        \n",
    "    scores_df[score_name] = score_df"
   ]
  },
  {
   "cell_type": "markdown",
   "metadata": {},
   "source": [
    "## Different ways of residuals"
   ]
  },
  {
   "cell_type": "code",
   "execution_count": 13,
   "metadata": {},
   "outputs": [
    {
     "data": {
      "image/png": "[encoded data removed]",
      "text/plain": [
       "<Figure size 432x288 with 1 Axes>"
      ]
     },
     "metadata": {
      "needs_background": "light"
     },
     "output_type": "display_data"
    }
   ],
   "source": [
    "save_to = \"/home/edgar/explain-me-why/sections/figures/score\"\n",
    "x = np.linspace(0, 2, 200)\n",
    "lp = x**0.3\n",
    "mad = x.copy()\n",
    "mse = x**2\n",
    "\n",
    "fig, ax = plt.subplots(tight_layout=True)\n",
    "\n",
    "ax.clear()\n",
    "\n",
    "ax.set_ylabel(\"Score\")\n",
    "ax.set_xlabel(\"Residual\")\n",
    "\n",
    "ax.plot(x, lp, c=\"black\", label=\"$L^p$\")\n",
    "ax.plot(x, mad, c=\"blue\", label=\"$MAD$\")\n",
    "ax.plot(x, mse, c=\"red\", label=\"$MSE$\")\n",
    "ax.legend()\n",
    "\n",
    "fig.savefig(f\"{save_to}/pvalues.pdf\")"
   ]
  },
  {
   "cell_type": "markdown",
   "metadata": {},
   "source": [
    "## most normal, most anomalous"
   ]
  },
  {
   "cell_type": "code",
   "execution_count": 51,
   "metadata": {},
   "outputs": [
    {
     "data": {
      "text/plain": [
       "[<matplotlib.lines.Line2D at 0x7f35203c1450>]"
      ]
     },
     "execution_count": 51,
     "metadata": {},
     "output_type": "execute_result"
    },
    {
     "data": {
      "image/png": "[encoded data removed]",
      "text/plain": [
       "<Figure size 432x288 with 4 Axes>"
      ]
     },
     "metadata": {
      "needs_background": "light"
     },
     "output_type": "display_data"
    }
   ],
   "source": [
    "score = \"mse_noRel100\"\n",
    "normal_rank = 0\n",
    "anomalous_rank = -1\n",
    "normal_specobjid = scores_df[score].index[normal_rank]\n",
    "normal_idx = specobjid_to_idx(normal_specobjid, ids)\n",
    "anomalous_specobjid = scores_df[score].index[anomalous_rank]\n",
    "anomalous_idx = specobjid_to_idx(anomalous_specobjid, ids)\n",
    "\n",
    "[\n",
    "    normal_observation,\n",
    "    normal_reconstruction,\n",
    "    normal_residual\n",
    "] = compare(normal_idx)\n",
    "\n",
    "[\n",
    "    anomalous_observation,\n",
    "    anomalous_reconstruction,\n",
    "    anomalous_residual\n",
    "] = compare(anomalous_idx)\n",
    "\n",
    "fig, axs = plot_compare()\n",
    "\n",
    "for axs_a in axs:\n",
    "    for ax in axs_a: ax.clear() \n",
    "\n",
    "axs[0, 0].plot(wave, normal_observation, c=\"black\", label=\"observation\")\n",
    "axs[0, 0].plot(wave, normal_reconstruction, c=\"red\", label=\"reconstruction\")\n",
    "axs[0, 0].legend()\n",
    "axs[1, 0].plot(wave, normal_residual, c=\"black\")\n",
    "\n",
    "axs[0, 1].plot(wave, anomalous_observation, c=\"black\", label=\"observation\")\n",
    "axs[0, 1].plot(wave, anomalous_reconstruction, c=\"red\", label=\"reconstruction\")\n",
    "axs[0, 1].legend()\n",
    "axs[1, 1].plot(wave, anomalous_residual, c=\"black\")\n"
   ]
  },
  {
   "cell_type": "code",
   "execution_count": 130,
   "metadata": {},
   "outputs": [
    {
     "data": {
      "image/png": "[encoded data removed]",
      "text/plain": [
       "<Figure size 432x288 with 2 Axes>"
      ]
     },
     "metadata": {
      "needs_background": "light"
     },
     "output_type": "display_data"
    }
   ],
   "source": [
    "# score = \"mse_noRel100\"\n",
    "score = \"mse_filter_250kms_noRel100\"\n",
    "# score = \"mse_noRel97\"\n",
    "# score = \"mse_filter_250kms_noRel97\"\n",
    "show_lines = True\n",
    "save_to = f\"/home/edgar/explain-me-why/sections/figures/score/{score}\"\n",
    "\n",
    "if os.path.exists(save_to) is False:\n",
    "    os.makedirs(save_to)\n",
    "\n",
    "fig, axs = plot_residual()\n",
    "\n",
    "for rank in range(1, 101):\n",
    "\n",
    "    specobjid = scores_df[score].index[-rank]\n",
    "    idx = specobjid_to_idx(specobjid, ids)\n",
    "\n",
    "    observation, reconstruction, residual = compare(idx)\n",
    "    for ax in axs: ax.clear() \n",
    "    axs[0].set_ylabel(\"Median normalized flux\")\n",
    "    axs[1].set_ylabel(\"Residual\")\n",
    "    axs[1].set_xlabel(\"$\\lambda [\\AA]$\")\n",
    "\n",
    "    axs[0].plot(wave, observation, c=\"black\", label=\"observation\")\n",
    "    axs[0].plot(wave, reconstruction, c=\"red\", label=\"reconstruction\")\n",
    "    axs[1].plot(wave, residual, c=\"black\")\n",
    "\n",
    "    axs[0].legend()\n",
    "\n",
    "\n",
    "    if show_lines is True:\n",
    "        for line in GALAXY_LINES:\n",
    "            axs[1].vlines(\n",
    "                GALAXY_LINES[line],\n",
    "                ymin=0, ymax=-residual.max()*0.5,\n",
    "                color=\"blue\"\n",
    "                )\n",
    "\n",
    "    fig.savefig(f\"{save_to}/rank_{rank:03d}.pdf\")"
   ]
  },
  {
   "cell_type": "code",
   "execution_count": 7,
   "metadata": {},
   "outputs": [
    {
     "name": "stdout",
     "output_type": "stream",
     "text": [
      "969534273977608192\n"
     ]
    }
   ],
   "source": [
    "# score = \"mse_noRel100\"\n",
    "score = \"mse_filter_250kms_noRel100\"\n",
    "# score = \"mse_noRel97\"\n",
    "# score = \"mse_filter_250kms_noRel97\"\n",
    "show_lines = True\n",
    "\n",
    "rank = 12\n",
    "\n",
    "# fig, axs = plot_residual()\n",
    "\n",
    "specobjid = scores_df[score].index[-rank]\n",
    "print(specobjid)\n",
    "# idx = specobjid_to_idx(specobjid, ids)\n",
    "\n",
    "# observation, reconstruction, residual = compare(idx)\n",
    "# for ax in axs: ax.clear() \n",
    "# axs[0].set_ylabel(\"Median normalized flux\")\n",
    "# axs[1].set_ylabel(\"Residual\")\n",
    "# axs[1].set_xlabel(\"$\\lambda [\\AA]$\")\n",
    "\n",
    "# axs[0].plot(wave, observation, c=\"black\", label=\"observation\")\n",
    "# axs[0].plot(wave, reconstruction, c=\"red\", label=\"reconstruction\")\n",
    "# axs[1].plot(wave, residual, c=\"black\")\n",
    "\n",
    "# axs[0].legend()\n",
    "\n",
    "\n",
    "# if show_lines is True:\n",
    "#     for line in GALAXY_LINES:\n",
    "#         axs[1].vlines(\n",
    "#             GALAXY_LINES[line],\n",
    "#             ymin=0, ymax=-residual.max()*0.5,\n",
    "#             color=\"blue\"\n",
    "#             )"
   ]
  },
  {
   "cell_type": "code",
   "execution_count": 9,
   "metadata": {},
   "outputs": [],
   "source": [
    "url = meta.get_sky_server_url(specobjid)"
   ]
  },
  {
   "cell_type": "code",
   "execution_count": 10,
   "metadata": {},
   "outputs": [
    {
     "name": "stdout",
     "output_type": "stream",
     "text": [
      "http://skyserver.sdss.org/dr16/en/tools/explore/summary.aspx?sid=969534273977608192&apid=\n"
     ]
    }
   ],
   "source": [
    "print(url)"
   ]
  },
  {
   "cell_type": "code",
   "execution_count": 12,
   "metadata": {},
   "outputs": [
    {
     "data": {
      "text/plain": [
       "mjd                   52318\n",
       "plate                   861\n",
       "fiberid                 489\n",
       "run2d                    26\n",
       "ra                 123.3924\n",
       "dec               31.547818\n",
       "z                   0.01953\n",
       "zErr               0.000005\n",
       "zWarning                  0\n",
       "class                GALAXY\n",
       "subClass          STARBURST\n",
       "z_noqso                   0\n",
       "zErr_noqso                0\n",
       "zWarning_noqso            0\n",
       "targetType          SCIENCE\n",
       "programname          legacy\n",
       "instrument             SDSS\n",
       "snMedian           23.75975\n",
       "ABSSB             STARBURST\n",
       "BROAD             STARBURST\n",
       "ebv                 0.03412\n",
       "score              0.155634\n",
       "Name: 969534273977608192, dtype: object"
      ]
     },
     "execution_count": 12,
     "metadata": {},
     "output_type": "execute_result"
    }
   ],
   "source": [
    "scores_df[score].loc[specobjid]"
   ]
  },
  {
   "cell_type": "code",
   "execution_count": null,
   "metadata": {},
   "outputs": [],
   "source": []
  }
 ],
 "metadata": {
  "kernelspec": {
   "display_name": "Python 3.10.4 64-bit",
   "language": "python",
   "name": "python3"
  },
  "language_info": {
   "codemirror_mode": {
    "name": "ipython",
    "version": 3
   },
   "file_extension": ".py",
   "mimetype": "text/x-python",
   "name": "python",
   "nbconvert_exporter": "python",
   "pygments_lexer": "ipython3",
   "version": "3.10.4"
  },
  "orig_nbformat": 4,
  "vscode": {
   "interpreter": {
    "hash": "916dbcbb3f70747c44a77c7bcd40155683ae19c65e1c03b4aa3499c5328201f1"
   }
  }
 },
 "nbformat": 4,
 "nbformat_minor": 2
}
