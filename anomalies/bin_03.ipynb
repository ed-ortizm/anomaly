{
 "cells": [
  {
   "cell_type": "code",
   "execution_count": 8,
   "metadata": {},
   "outputs": [],
   "source": [
    "import os\n",
    "\n",
    "# Set environment variables to disable multithreading as users will probably\n",
    "# want to set the number of cores to the max of their computer.\n",
    "os.environ[\"OMP_NUM_THREADS\"] = \"1\"\n",
    "os.environ[\"OPENBLAS_NUM_THREADS\"] = \"1\"\n",
    "os.environ[\"MKL_NUM_THREADS\"] = \"1\"\n",
    "os.environ[\"VECLIB_MAXIMUM_THREADS\"] = \"1\"\n",
    "os.environ[\"NUMEXPR_NUM_THREADS\"] = \"1\"\n",
    "###############################################################################\n",
    "# Set TensorFlow print of log information\n",
    "# 0 = all messages are logged (default behavior)\n",
    "# 1 = INFO messages are not printed\n",
    "# 2 = INFO and WARNING messages are not printed\n",
    "# 3 = INFO, WARNING, and ERROR messages are not printed\n",
    "os.environ[\"TF_CPP_MIN_LOG_LEVEL\"] = \"2\""
   ]
  },
  {
   "cell_type": "code",
   "execution_count": 9,
   "metadata": {},
   "outputs": [],
   "source": [
    "import glob\n",
    "import matplotlib.pyplot as plt\n",
    "import numpy as np\n",
    "import pandas as pd\n",
    "\n",
    "from anomaly.constants import GALAXY_LINES\n",
    "from anomaly.utils import specobjid_to_idx\n",
    "from sdss.metadata import MetaData\n",
    "from autoencoders.ae import AutoEncoder\n",
    "\n",
    "meta = MetaData()\n",
    "%matplotlib inline"
   ]
  },
  {
   "cell_type": "code",
   "execution_count": 19,
   "metadata": {},
   "outputs": [],
   "source": [
    "bin_id = \"bin_03\"\n",
    "model_id = \"0008\"\n",
    "architecture = \"256_128_64/latent_12\"\n",
    "\n",
    "meta_data_directory = \"/home/edgar/spectra/0_01_z_0_5_4_0_snr_inf\"\n",
    "scores_directory = (\n",
    "    f\"{meta_data_directory}/{bin_id}/explanation/256_128_64/latent_12\"\n",
    ")\n",
    "model_directory = f\"{meta_data_directory}/{bin_id}/models/{architecture}\"\n",
    "\n",
    "wave = np.load(f\"{meta_data_directory}/wave.npy\")\n",
    "spectra = np.load(f\"{meta_data_directory}/spectra.npy\", mmap_mode=\"r\")\n",
    "ids = np.load(f\"{meta_data_directory}/ids_inputting.npy\")\n",
    "\n",
    "model = AutoEncoder(reload=True, reload_from=f\"{model_directory}/{model_id}\")"
   ]
  },
  {
   "cell_type": "code",
   "execution_count": 11,
   "metadata": {},
   "outputs": [],
   "source": [
    "def plot_compare():\n",
    "    fig, axs = plt.subplots(nrows=2, ncols=2, sharex=True, tight_layout=True)\n",
    "\n",
    "    axs[1, 0].set_xlabel(\"$\\lambda [\\AA]$\")\n",
    "    axs[1, 1].set_xlabel(\"$\\lambda [\\AA]$\")\n",
    "    axs[0, 0].set_ylabel(\"Median normalized flux\")\n",
    "    axs[1, 0].set_ylabel(\"Residual\")\n",
    "\n",
    "    return fig, axs\n",
    "\n",
    "\n",
    "def plot_residual():\n",
    "    fig, axs = plt.subplots(\n",
    "        nrows=2,\n",
    "        ncols=1,\n",
    "        # figsize=(20,12),\n",
    "        sharex=True,\n",
    "        tight_layout=True,\n",
    "    )\n",
    "\n",
    "    axs[0].set_ylabel(\"Median normalized flux\")\n",
    "    axs[1].set_ylabel(\"Residual\")\n",
    "    axs[1].set_xlabel(\"$\\lambda [\\AA]$\")\n",
    "\n",
    "    return fig, axs\n",
    "\n",
    "\n",
    "def compare(spectra_idx):\n",
    "    observation = spectra[spectra_idx]\n",
    "    reconstruction = model.reconstruct(observation).reshape(-1)\n",
    "    residual = np.abs(observation - reconstruction)\n",
    "\n",
    "    return observation, reconstruction, residual"
   ]
  },
  {
   "cell_type": "code",
   "execution_count": 12,
   "metadata": {},
   "outputs": [],
   "source": [
    "## Get sets of specobjids of anomalous spectra per score\n",
    "scores_names = {\n",
    "    \"mse_noRel100\": \"MSE score\",\n",
    "    \"mse_filter_250kms_noRel100\": \"MSE score with a 250 kms filter\",\n",
    "    \"mse_noRel97\": \"MSE score ignoring 3% of largest residuals\",\n",
    "    \"mse_filter_250kms_noRel97\": \"MSE score ignoring 3% of largest residuals with a 250 kms filter\",\n",
    "    \"mse_rel100\": \"MSE relative score\",\n",
    "    \"mse_filter_250kms_rel100\": \"MSE relative score with a 250 kms filter\",\n",
    "    \"mse_rel97\": \"MSE relative score\\n ignoring 3% of largest residuals\",\n",
    "    \"mse_filter_250kms_rel97\": \"MSE relative score ignoring 3% of largest residuals with a 250 kms filter\",\n",
    "}"
   ]
  },
  {
   "cell_type": "code",
   "execution_count": 13,
   "metadata": {},
   "outputs": [],
   "source": [
    "df_scores = {}\n",
    "\n",
    "for score_name in scores_names.keys():\n",
    "\n",
    "    df_scores[score_name] = pd.read_csv(\n",
    "        f\"{scores_directory}/{score_name}/top_anomalies.csv.gz\",\n",
    "        index_col=\"specobjid\",\n",
    "    )"
   ]
  },
  {
   "cell_type": "markdown",
   "metadata": {},
   "source": [
    "Save anomalies"
   ]
  },
  {
   "cell_type": "code",
   "execution_count": 14,
   "metadata": {},
   "outputs": [
    {
     "data": {
      "image/png": "[encoded data removed]",
      "text/plain": [
       "<Figure size 432x288 with 2 Axes>"
      ]
     },
     "metadata": {
      "needs_background": "light"
     },
     "output_type": "display_data"
    }
   ],
   "source": [
    "image_format = \"pdf\"\n",
    "\n",
    "show_lines = True\n",
    "fig, axs = plot_residual()\n",
    "\n",
    "for score in scores_names.keys():\n",
    "    save_to = f\"/home/edgar/Downloads/score/{score}\"\n",
    "\n",
    "    if os.path.exists(save_to) is False:\n",
    "        os.makedirs(save_to)\n",
    "\n",
    "    for rank in range(1, 501):\n",
    "\n",
    "        specobjid = df_scores[score].index[-rank]\n",
    "        idx = specobjid_to_idx(specobjid, ids)\n",
    "\n",
    "        observation, reconstruction, residual = compare(idx)\n",
    "        for ax in axs:\n",
    "            ax.clear()\n",
    "        axs[0].set_ylabel(\"Median normalized flux\")\n",
    "        axs[1].set_ylabel(\"Residual\")\n",
    "        axs[1].set_xlabel(\"$\\lambda [\\AA]$\")\n",
    "\n",
    "        axs[0].plot(wave, observation, c=\"black\", label=\"observation\")\n",
    "        axs[0].plot(\n",
    "            wave, reconstruction, c=\"red\", label=\"reconstruction\", alpha=0.5\n",
    "        )\n",
    "        axs[1].plot(wave, residual, c=\"black\")\n",
    "\n",
    "        axs[0].legend()\n",
    "\n",
    "        if show_lines is True:\n",
    "            for line in GALAXY_LINES:\n",
    "                axs[1].vlines(\n",
    "                    GALAXY_LINES[line],\n",
    "                    ymin=0,\n",
    "                    ymax=-residual.max() * 0.5,\n",
    "                    color=\"blue\",\n",
    "                )\n",
    "\n",
    "        fig.savefig(f\"{save_to}/rank_{rank:03d}.{image_format}\")"
   ]
  },
  {
   "cell_type": "markdown",
   "metadata": {},
   "source": [
    "Save normal spectra "
   ]
  },
  {
   "cell_type": "code",
   "execution_count": 15,
   "metadata": {},
   "outputs": [],
   "source": [
    "df_normal_scores = {}\n",
    "\n",
    "for score_name in scores_names.keys():\n",
    "\n",
    "    df_normal_scores[score_name] = pd.read_csv(\n",
    "        f\"{scores_directory}/{score_name}/top_normal.csv.gz\",\n",
    "        index_col=\"specobjid\",\n",
    "    )"
   ]
  },
  {
   "cell_type": "code",
   "execution_count": 18,
   "metadata": {},
   "outputs": [
    {
     "data": {
      "image/png": "[encoded data removed]",
      "text/plain": [
       "<Figure size 432x288 with 2 Axes>"
      ]
     },
     "metadata": {
      "needs_background": "light"
     },
     "output_type": "display_data"
    }
   ],
   "source": [
    "image_format = \"pdf\"\n",
    "\n",
    "show_lines = True\n",
    "fig, axs = plot_residual()\n",
    "\n",
    "for score in scores_names.keys():\n",
    "    save_to = f\"/home/edgar/Downloads/bin_04/normal/{score}\"\n",
    "\n",
    "    if os.path.exists(save_to) is False:\n",
    "        os.makedirs(save_to)\n",
    "\n",
    "    for rank in range(0, 101):\n",
    "\n",
    "        specobjid = df_normal_scores[score].index[-rank]\n",
    "        idx = specobjid_to_idx(specobjid, ids)\n",
    "\n",
    "        observation, reconstruction, residual = compare(idx)\n",
    "        for ax in axs:\n",
    "            ax.clear()\n",
    "        axs[0].set_ylabel(\"Median normalized flux\")\n",
    "        axs[1].set_ylabel(\"Residual\")\n",
    "        axs[1].set_xlabel(\"$\\lambda [\\AA]$\")\n",
    "\n",
    "        axs[0].plot(wave, observation, c=\"black\", label=\"observation\")\n",
    "        axs[0].plot(\n",
    "            wave, reconstruction, c=\"red\", label=\"reconstruction\", alpha=0.5\n",
    "        )\n",
    "        axs[1].plot(wave, residual, c=\"black\")\n",
    "\n",
    "        axs[0].legend()\n",
    "\n",
    "        if show_lines is True:\n",
    "            for line in GALAXY_LINES:\n",
    "                axs[1].vlines(\n",
    "                    GALAXY_LINES[line],\n",
    "                    ymin=0,\n",
    "                    ymax=-residual.max() * 0.5,\n",
    "                    color=\"blue\",\n",
    "                )\n",
    "\n",
    "        fig.savefig(f\"{save_to}/rank_{rank:03d}.{image_format}\")"
   ]
  },
  {
   "cell_type": "code",
   "execution_count": null,
   "metadata": {},
   "outputs": [],
   "source": []
  }
 ],
 "metadata": {
  "kernelspec": {
   "display_name": "Python 3.10.6 64-bit",
   "language": "python",
   "name": "python3"
  },
  "language_info": {
   "codemirror_mode": {
    "name": "ipython",
    "version": 3
   },
   "file_extension": ".py",
   "mimetype": "text/x-python",
   "name": "python",
   "nbconvert_exporter": "python",
   "pygments_lexer": "ipython3",
   "version": "3.10.6"
  },
  "orig_nbformat": 4,
  "vscode": {
   "interpreter": {
    "hash": "916dbcbb3f70747c44a77c7bcd40155683ae19c65e1c03b4aa3499c5328201f1"
   }
  }
 },
 "nbformat": 4,
 "nbformat_minor": 2
}
